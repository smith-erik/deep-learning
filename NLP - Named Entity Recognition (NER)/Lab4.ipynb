{
 "cells": [
  {
   "cell_type": "code",
   "execution_count": 1,
   "metadata": {},
   "outputs": [
    {
     "name": "stderr",
     "output_type": "stream",
     "text": [
      "Using TensorFlow backend.\n"
     ]
    }
   ],
   "source": [
    "import sys\n",
    "import os\n",
    "from sklearn.feature_extraction import DictVectorizer\n",
    "import time\n",
    "from keras import models, layers\n",
    "import sys\n",
    "import numpy as np\n",
    "from sklearn.preprocessing import StandardScaler\n",
    "from sklearn.pipeline import Pipeline\n",
    "from keras.models import load_model\n",
    "import math\n",
    "from keras.preprocessing.sequence import pad_sequences\n",
    "from keras.utils import to_categorical\n",
    "from keras.layers import LSTM, Bidirectional, SimpleRNN, Dense"
   ]
  },
  {
   "cell_type": "code",
   "execution_count": 2,
   "metadata": {
    "scrolled": true
   },
   "outputs": [],
   "source": [
    "OPTIMIZER = 'rmsprop'\n",
    "BATCH_SIZE = 128\n",
    "EPOCHS = 2\n",
    "EMBEDDING_DIM = 100\n",
    "MAX_SEQUENCE_LENGTH = 150\n",
    "LSTM_UNITS = 512"
   ]
  },
  {
   "cell_type": "markdown",
   "metadata": {},
   "source": [
    "### Word Embeddings\n",
    " - We replace the one-hot vectors with embeddings.  \n",
    " - Word embeddings are dense vectors obtained by a principal component\n",
    "analysis or another method.  \n",
    " - They can be trained by the neural network or pretained.  \n",
    "   Here, we will use pretrained embeddings from the GloVe project.  \n",
    "   Our version of GloVe is lowercased, so set all the characters in lower case.  \n",
    " - We will add an Embedding layer at the start of the network\n",
    "   We will initialize it with GloVe and make it trainable."
   ]
  },
  {
   "cell_type": "code",
   "execution_count": 3,
   "metadata": {},
   "outputs": [],
   "source": [
    "def load(file):\n",
    "    \"\"\"\n",
    "    Return the embeddings in the from of a dictionary\n",
    "    :param file:\n",
    "    :return:\n",
    "    \"\"\"\n",
    "    file = file\n",
    "    embeddings = {}\n",
    "    glove = open(file)\n",
    "    for line in glove:\n",
    "        values = line.strip().split()\n",
    "        word = values[0]\n",
    "        vector = np.array(values[1:], dtype='float32')\n",
    "        embeddings[word] = vector\n",
    "    glove.close()\n",
    "    embeddings_dict = embeddings\n",
    "    embedded_words = sorted(list(embeddings_dict.keys()))\n",
    "    return embeddings_dict"
   ]
  },
  {
   "cell_type": "code",
   "execution_count": 4,
   "metadata": {},
   "outputs": [],
   "source": [
    "embedding_file = '/Users/erik/Dropbox/Public/Akademiskt/Year5/MachineLearning/Lab4/glove.6B.100d.txt'\n",
    "embeddings_dict = load(embedding_file)"
   ]
  },
  {
   "cell_type": "code",
   "execution_count": 5,
   "metadata": {},
   "outputs": [
    {
     "name": "stdout",
     "output_type": "stream",
     "text": [
      "100\n"
     ]
    },
    {
     "data": {
      "text/plain": [
       "array([-0.038194, -0.24487 ,  0.72812 , -0.39961 ,  0.083172,  0.043953,\n",
       "       -0.39141 ,  0.3344  , -0.57545 ,  0.087459,  0.28787 , -0.06731 ,\n",
       "        0.30906 , -0.26384 , -0.13231 , -0.20757 ,  0.33395 , -0.33848 ,\n",
       "       -0.31743 , -0.48336 ,  0.1464  , -0.37304 ,  0.34577 ,  0.052041,\n",
       "        0.44946 , -0.46971 ,  0.02628 , -0.54155 , -0.15518 , -0.14107 ,\n",
       "       -0.039722,  0.28277 ,  0.14393 ,  0.23464 , -0.31021 ,  0.086173,\n",
       "        0.20397 ,  0.52624 ,  0.17164 , -0.082378, -0.71787 , -0.41531 ,\n",
       "        0.20335 , -0.12763 ,  0.41367 ,  0.55187 ,  0.57908 , -0.33477 ,\n",
       "       -0.36559 , -0.54857 , -0.062892,  0.26584 ,  0.30205 ,  0.99775 ,\n",
       "       -0.80481 , -3.0243  ,  0.01254 , -0.36942 ,  2.2167  ,  0.72201 ,\n",
       "       -0.24978 ,  0.92136 ,  0.034514,  0.46745 ,  1.1079  , -0.19358 ,\n",
       "       -0.074575,  0.23353 , -0.052062, -0.22044 ,  0.057162, -0.15806 ,\n",
       "       -0.30798 , -0.41625 ,  0.37972 ,  0.15006 , -0.53212 , -0.2055  ,\n",
       "       -1.2526  ,  0.071624,  0.70565 ,  0.49744 , -0.42063 ,  0.26148 ,\n",
       "       -1.538   , -0.30223 , -0.073438, -0.28312 ,  0.37104 , -0.25217 ,\n",
       "        0.016215, -0.017099, -0.38984 ,  0.87424 , -0.72569 , -0.51058 ,\n",
       "       -0.52028 , -0.1459  ,  0.8278  ,  0.27062 ], dtype=float32)"
      ]
     },
     "execution_count": 5,
     "metadata": {},
     "output_type": "execute_result"
    }
   ],
   "source": [
    "print(len(embeddings_dict['the']))\n",
    "embeddings_dict['the']"
   ]
  },
  {
   "cell_type": "code",
   "execution_count": 6,
   "metadata": {},
   "outputs": [],
   "source": [
    "import re\n",
    "class Token(dict):\n",
    "    pass\n",
    "\n",
    "\n",
    "class CoNLLDictorizer:\n",
    "\n",
    "    def __init__(self, column_names, sent_sep='\\n\\n', col_sep=' +'):\n",
    "        self.column_names = column_names\n",
    "        self.sent_sep = sent_sep\n",
    "        self.col_sep = col_sep\n",
    "\n",
    "    def fit(self):\n",
    "        pass\n",
    "\n",
    "    def transform(self, corpus):\n",
    "        corpus = corpus.strip()\n",
    "        sentences = re.split(self.sent_sep, corpus)\n",
    "        return list(map(self._split_in_words, sentences))\n",
    "\n",
    "    def fit_transform(self, corpus):\n",
    "        return self.transform(corpus)\n",
    "\n",
    "    def _split_in_words(self, sentence):\n",
    "        rows = re.split('\\n', sentence)\n",
    "        return [Token(dict(zip(self.column_names,\n",
    "                               re.split(self.col_sep, row))))\n",
    "                for row in rows]"
   ]
  },
  {
   "cell_type": "markdown",
   "metadata": {},
   "source": [
    "### CoNLL 2003 - File Structure\n",
    "\n",
    "| Words    | POS | Groups | Named entities |\n",
    "|----------|-----|--------|----------------|\n",
    "| UN       | NNP | I-NP   | I-ORG          |\n",
    "| official | NN  | I-NP   | O              |\n",
    "\n",
    "_Note:  \n",
    "Group detection is also called \"chunking\"._\n",
    "\n",
    "#### Types of named entities:\n",
    "  - persons\n",
    "  - locations\n",
    "  - organizations\n",
    "  - names of miscellaneous entities"
   ]
  },
  {
   "cell_type": "code",
   "execution_count": 7,
   "metadata": {},
   "outputs": [
    {
     "name": "stdout",
     "output_type": "stream",
     "text": [
      "[{'form': '-DOCSTART-', 'ppos': '-X-', 'pchunk': '-X-', 'ner': 'O'}]\n",
      "[{'form': 'EU', 'ppos': 'NNP', 'pchunk': 'B-NP', 'ner': 'B-ORG'}, {'form': 'rejects', 'ppos': 'VBZ', 'pchunk': 'B-VP', 'ner': 'O'}, {'form': 'German', 'ppos': 'JJ', 'pchunk': 'B-NP', 'ner': 'B-MISC'}, {'form': 'call', 'ppos': 'NN', 'pchunk': 'I-NP', 'ner': 'O'}, {'form': 'to', 'ppos': 'TO', 'pchunk': 'B-VP', 'ner': 'O'}, {'form': 'boycott', 'ppos': 'VB', 'pchunk': 'I-VP', 'ner': 'O'}, {'form': 'British', 'ppos': 'JJ', 'pchunk': 'B-NP', 'ner': 'B-MISC'}, {'form': 'lamb', 'ppos': 'NN', 'pchunk': 'I-NP', 'ner': 'O'}, {'form': '.', 'ppos': '.', 'pchunk': 'O', 'ner': 'O'}]\n"
     ]
    },
    {
     "data": {
      "text/plain": [
       "'-DOCSTART- -X- -X- O\\n\\nEU NNP B-NP B-ORG\\nrejects VBZ B-VP O\\nGerman JJ B-NP B-MISC\\ncall NN I-NP O\\nto T'"
      ]
     },
     "execution_count": 7,
     "metadata": {},
     "output_type": "execute_result"
    }
   ],
   "source": [
    "BASE_DIR = '/Users/erik/Dropbox/Public/Akademiskt/Year5/MachineLearning/Lab4/'\n",
    "\n",
    "def load_conll2003_en():\n",
    "    train_file = BASE_DIR + 'train.txt'\n",
    "    dev_file = BASE_DIR + 'valid.txt'\n",
    "    test_file = BASE_DIR + 'test.txt'\n",
    "    column_names = ['form', 'ppos', 'pchunk', 'ner']\n",
    "    train_sentences = open(train_file).read().strip()\n",
    "    dev_sentences = open(dev_file).read().strip()\n",
    "    test_sentences = open(test_file).read().strip()\n",
    "    return train_sentences, dev_sentences, test_sentences, column_names\n",
    "\n",
    "\n",
    "if __name__ == '__main__':\n",
    "    train_sentences, dev_sentences, test_sentences, column_names = load_conll2003_en()\n",
    "\n",
    "    conll_dict = CoNLLDictorizer(column_names, col_sep=' +')\n",
    "    train_dict = conll_dict.transform(train_sentences)\n",
    "    print(train_dict[0])\n",
    "    print(train_dict[1])\n",
    "\n",
    "train_sentences, dev_sentences, test_sentences, column_names = load_conll2003_en()\n",
    "#train_sentences, dev_sentences, test_sentences, column_names = load_ud_en_ewt()\n",
    "train_sentences[:100]"
   ]
  },
  {
   "cell_type": "code",
   "execution_count": 8,
   "metadata": {},
   "outputs": [
    {
     "name": "stdout",
     "output_type": "stream",
     "text": [
      "First sentences, train:\n",
      "\n"
     ]
    },
    {
     "data": {
      "text/plain": [
       "[[{'form': '-DOCSTART-', 'ppos': '-X-', 'pchunk': '-X-', 'ner': 'O'}],\n",
       " [{'form': 'EU', 'ppos': 'NNP', 'pchunk': 'B-NP', 'ner': 'B-ORG'},\n",
       "  {'form': 'rejects', 'ppos': 'VBZ', 'pchunk': 'B-VP', 'ner': 'O'},\n",
       "  {'form': 'German', 'ppos': 'JJ', 'pchunk': 'B-NP', 'ner': 'B-MISC'},\n",
       "  {'form': 'call', 'ppos': 'NN', 'pchunk': 'I-NP', 'ner': 'O'},\n",
       "  {'form': 'to', 'ppos': 'TO', 'pchunk': 'B-VP', 'ner': 'O'},\n",
       "  {'form': 'boycott', 'ppos': 'VB', 'pchunk': 'I-VP', 'ner': 'O'},\n",
       "  {'form': 'British', 'ppos': 'JJ', 'pchunk': 'B-NP', 'ner': 'B-MISC'},\n",
       "  {'form': 'lamb', 'ppos': 'NN', 'pchunk': 'I-NP', 'ner': 'O'},\n",
       "  {'form': '.', 'ppos': '.', 'pchunk': 'O', 'ner': 'O'}],\n",
       " [{'form': 'Peter', 'ppos': 'NNP', 'pchunk': 'B-NP', 'ner': 'B-PER'},\n",
       "  {'form': 'Blackburn', 'ppos': 'NNP', 'pchunk': 'I-NP', 'ner': 'I-PER'}],\n",
       " [{'form': 'BRUSSELS', 'ppos': 'NNP', 'pchunk': 'B-NP', 'ner': 'B-LOC'},\n",
       "  {'form': '1996-08-22', 'ppos': 'CD', 'pchunk': 'I-NP', 'ner': 'O'}]]"
      ]
     },
     "execution_count": 8,
     "metadata": {},
     "output_type": "execute_result"
    }
   ],
   "source": [
    "conll_dict = CoNLLDictorizer(column_names, col_sep=' +')\n",
    "train_dict = conll_dict.transform(train_sentences)\n",
    "dev_dict = conll_dict.transform(dev_sentences)\n",
    "test_dict = conll_dict.transform(test_sentences)\n",
    "print('First sentences, train:\\n')\n",
    "train_dict[0:4]"
   ]
  },
  {
   "cell_type": "markdown",
   "metadata": {},
   "source": [
    "Note that this is a list of *lists containing maps*.\n",
    "  - The map is one word with its tags.\n",
    "  - The *inner lists are sentences*, i.e. a collection of words.\n",
    "  - Finally, we have an outer list since we have a whole bunch of sentences."
   ]
  },
  {
   "cell_type": "markdown",
   "metadata": {},
   "source": [
    "### Reading the Corpus and Building Indices\n",
    "You will read the corpus with programs available from https://github.com/pnugues/edan95. These programs will enable you to load the files in the form of a list of dictionaries.\n",
    "\n",
    "  1. Write a function that for each sentence returns the $\\mathbf{X}$  and $\\mathbf{Y}$ lists of symbols consisting of _words_ and _NER tags_.\n",
    "  2. Create a vocabulary of all the words observed in the training set and the words in GloVe.\n",
    "  2. Create indices and inverted indices for the words and the NER: i.e. you will associate each word with a number. You will use index 0 for the padding symbol and 1 for unknown words."
   ]
  },
  {
   "cell_type": "code",
   "execution_count": 9,
   "metadata": {},
   "outputs": [],
   "source": [
    "# 1. Write a function that for each sentence returns the X and Y lists of symbols consisting of words and NER tags.\n",
    "def build_sequences(corpus_dict, key_x='form', key_y='ner', tolower=True):\n",
    "    \"\"\"Creates sequences from a list of dictionaries.\"\"\"\n",
    "    X = []\n",
    "    Y = []\n",
    "    for sentence in corpus_dict:\n",
    "        x = []\n",
    "        y = []\n",
    "        for word in sentence:\n",
    "            x += [word[key_x]]\n",
    "            y += [word[key_y]]\n",
    "        if tolower:\n",
    "            x = list(map(str.lower, x))\n",
    "        X += [x]\n",
    "        Y += [y]\n",
    "    return X, Y\n",
    "\n",
    "X_train_cat, Y_train_cat = build_sequences(train_dict)"
   ]
  },
  {
   "cell_type": "code",
   "execution_count": 10,
   "metadata": {},
   "outputs": [
    {
     "data": {
      "text/plain": [
       "[['-docstart-'],\n",
       " ['eu', 'rejects', 'german', 'call', 'to', 'boycott', 'british', 'lamb', '.'],\n",
       " ['peter', 'blackburn'],\n",
       " ['brussels', '1996-08-22']]"
      ]
     },
     "execution_count": 10,
     "metadata": {},
     "output_type": "execute_result"
    }
   ],
   "source": [
    "# First sentences, X:words\n",
    "X_train_cat[0:4]"
   ]
  },
  {
   "cell_type": "code",
   "execution_count": 11,
   "metadata": {},
   "outputs": [
    {
     "data": {
      "text/plain": [
       "[['O'],\n",
       " ['B-ORG', 'O', 'B-MISC', 'O', 'O', 'O', 'B-MISC', 'O', 'O'],\n",
       " ['B-PER', 'I-PER'],\n",
       " ['B-LOC', 'O']]"
      ]
     },
     "execution_count": 11,
     "metadata": {},
     "output_type": "execute_result"
    }
   ],
   "source": [
    "# With corresponding tags, Y:POS\n",
    "Y_train_cat[0:4]"
   ]
  },
  {
   "cell_type": "code",
   "execution_count": 13,
   "metadata": {},
   "outputs": [],
   "source": [
    "# 2. Create a vocabulary of all the words observed in the training set and the words in GloVe.\n",
    "vocabulary_words = sorted(list(\n",
    "    set([word for sentence \n",
    "         in X_train_cat for word in sentence])))\n",
    "ner = sorted(list(set([ner for sentence \n",
    "                       in Y_train_cat for ner in sentence])))\n",
    "NB_CLASSES = len(ner)"
   ]
  },
  {
   "cell_type": "code",
   "execution_count": 14,
   "metadata": {},
   "outputs": [
    {
     "name": "stdout",
     "output_type": "stream",
     "text": [
      "['B-LOC', 'B-MISC', 'B-ORG', 'B-PER', 'I-LOC', 'I-MISC', 'I-ORG', 'I-PER', 'O']\n",
      "Length 9.\n",
      "\n",
      "['goinxha', 'golan', 'gold', 'golden', 'goldiman', 'goldiner', 'goldman', 'golds', 'goldsmith', 'goldstein']\n",
      "Length 21010.\n"
     ]
    }
   ],
   "source": [
    "print(\"%s\\nLength %d.\\n\" % (ner, len(ner)) )\n",
    "print(\"%s\\nLength %d.\" % (vocabulary_words[10000:10010] , len(vocabulary_words)) )\n"
   ]
  },
  {
   "cell_type": "markdown",
   "metadata": {},
   "source": [
    "3. Create indices and inverted indices for the words and the NER.  \n",
    "**You will associate each word with a number.**  \n",
    "You will use index *0 for the padding symbol* and *1 for unknown words*."
   ]
  },
  {
   "cell_type": "code",
   "execution_count": 15,
   "metadata": {},
   "outputs": [
    {
     "name": "stdout",
     "output_type": "stream",
     "text": [
      "Words in GloVe: 400000\n",
      "Number of unique words in the vocabulary; embeddings and corpus: 402597\n"
     ]
    }
   ],
   "source": [
    "# 3.\n",
    "embeddings_words = embeddings_dict.keys()\n",
    "print('Words in GloVe:',  len(embeddings_dict.keys()))\n",
    "vocabulary_words = sorted(list(set(vocabulary_words + \n",
    "                                   list(embeddings_words))))\n",
    "cnt_uniq = len(vocabulary_words) + 2\n",
    "print('Number of unique words in the vocabulary; embeddings and corpus:', \n",
    "      cnt_uniq)"
   ]
  },
  {
   "cell_type": "code",
   "execution_count": 16,
   "metadata": {},
   "outputs": [
    {
     "data": {
      "text/plain": [
       "array([-0.038194, -0.24487 ,  0.72812 , -0.39961 ,  0.083172,  0.043953,\n",
       "       -0.39141 ,  0.3344  , -0.57545 ,  0.087459,  0.28787 , -0.06731 ,\n",
       "        0.30906 , -0.26384 , -0.13231 , -0.20757 ,  0.33395 , -0.33848 ,\n",
       "       -0.31743 , -0.48336 ,  0.1464  , -0.37304 ,  0.34577 ,  0.052041,\n",
       "        0.44946 , -0.46971 ,  0.02628 , -0.54155 , -0.15518 , -0.14107 ,\n",
       "       -0.039722,  0.28277 ,  0.14393 ,  0.23464 , -0.31021 ,  0.086173,\n",
       "        0.20397 ,  0.52624 ,  0.17164 , -0.082378, -0.71787 , -0.41531 ,\n",
       "        0.20335 , -0.12763 ,  0.41367 ,  0.55187 ,  0.57908 , -0.33477 ,\n",
       "       -0.36559 , -0.54857 , -0.062892,  0.26584 ,  0.30205 ,  0.99775 ,\n",
       "       -0.80481 , -3.0243  ,  0.01254 , -0.36942 ,  2.2167  ,  0.72201 ,\n",
       "       -0.24978 ,  0.92136 ,  0.034514,  0.46745 ,  1.1079  , -0.19358 ,\n",
       "       -0.074575,  0.23353 , -0.052062, -0.22044 ,  0.057162, -0.15806 ,\n",
       "       -0.30798 , -0.41625 ,  0.37972 ,  0.15006 , -0.53212 , -0.2055  ,\n",
       "       -1.2526  ,  0.071624,  0.70565 ,  0.49744 , -0.42063 ,  0.26148 ,\n",
       "       -1.538   , -0.30223 , -0.073438, -0.28312 ,  0.37104 , -0.25217 ,\n",
       "        0.016215, -0.017099, -0.38984 ,  0.87424 , -0.72569 , -0.51058 ,\n",
       "       -0.52028 , -0.1459  ,  0.8278  ,  0.27062 ], dtype=float32)"
      ]
     },
     "execution_count": 16,
     "metadata": {},
     "output_type": "execute_result"
    }
   ],
   "source": [
    "embeddings_dict['the']"
   ]
  },
  {
   "cell_type": "code",
   "execution_count": 17,
   "metadata": {},
   "outputs": [
    {
     "name": "stdout",
     "output_type": "stream",
     "text": [
      "Word Index:\n",
      " [('chetwynd-talbot', 100002), ('cheuk', 100003), ('cheul', 100004), ('cheula', 100005), ('cheun', 100006), ('cheung', 100007), ('cheuse', 100008), ('cheuvreux', 100009), ('cheuvront', 100010), ('chev', 100011)]\n",
      "\n",
      "Ner Index:\n"
     ]
    },
    {
     "data": {
      "text/plain": [
       "{'B-LOC': 2,\n",
       " 'B-MISC': 3,\n",
       " 'B-ORG': 4,\n",
       " 'B-PER': 5,\n",
       " 'I-LOC': 6,\n",
       " 'I-MISC': 7,\n",
       " 'I-ORG': 8,\n",
       " 'I-PER': 9,\n",
       " 'O': 10}"
      ]
     },
     "execution_count": 17,
     "metadata": {},
     "output_type": "execute_result"
    }
   ],
   "source": [
    "# We start at one to make provision for the padding symbol 0 in RNN and LSTMs and 1 for the unknown words.\n",
    "# This means we have to start enumeration from 2.\n",
    "rev_word_idx = dict(enumerate(vocabulary_words, start=2))\n",
    "rev_ner_idx = dict(enumerate(ner, start=2))\n",
    "\n",
    "# Flip order of values and keys.\n",
    "word_idx = {v: k for k, v in rev_word_idx.items()}\n",
    "ner_idx = {v: k for k, v in rev_ner_idx.items()}\n",
    "\n",
    "print('Word Index:\\n', list(word_idx.items())[100000:100010])\n",
    "print('\\nNer Index:')\n",
    "\n",
    "ner_idx"
   ]
  },
  {
   "cell_type": "markdown",
   "metadata": {},
   "source": [
    "### Creating the X and Y Sequences\n",
    "You will now create the input and output sequences with numerical indices\n",
    "\n",
    "Convert the X and Y list of symbols in a list of numbers using the indices you created.\n",
    "Pad the sentences using the pad_sequences function.\n",
    "Do the same for the development set."
   ]
  },
  {
   "cell_type": "markdown",
   "metadata": {},
   "source": [
    "_Note_\n",
    "\n",
    "`get(key[, default])`  \n",
    "Return the value for key if key is in the dictionary, else default. If default is not given, it defaults to None, so that this method never raises a KeyError.\n",
    "\n",
    "\n",
    "Also, the `map()` function executes a specified function for each item in a iterable. The item is sent to the function as a parameter.  \n",
    "\\> `map(function, iterables)`"
   ]
  },
  {
   "cell_type": "code",
   "execution_count": 18,
   "metadata": {},
   "outputs": [],
   "source": [
    "def to_index(X, idx):\n",
    "    \"\"\"\n",
    "    Convert the word/NER-tag lists to indexes.\n",
    "    :param X: List of word/NER-tag lists\n",
    "    :param idx: word to number dictionary\n",
    "    :return:\n",
    "    \"\"\"\n",
    "    X_idx = []\n",
    "    for x in X:\n",
    "        # We map the unknown words to one\n",
    "        x_idx = list(map(lambda x: idx.get(x, 1), x)) # So set to 1 (our unknown indicator) if not found in idx.\n",
    "        X_idx += [x_idx]\n",
    "    return X_idx"
   ]
  },
  {
   "cell_type": "code",
   "execution_count": 19,
   "metadata": {},
   "outputs": [],
   "source": [
    "# We create the parallel sequences of indexes, i.e. sentences as indices.\n",
    "X_idx = to_index(X_train_cat, word_idx)\n",
    "Y_idx = to_index(Y_train_cat, ner_idx)"
   ]
  },
  {
   "cell_type": "code",
   "execution_count": 20,
   "metadata": {},
   "outputs": [
    {
     "name": "stdout",
     "output_type": "stream",
     "text": [
      "A sentence in X_idx: Word Indices.\n",
      "[340921, 517, 73883, 15424]\n",
      "A sentence in Y_idx: NER Indices.\n",
      "[2, 10, 2, 10]\n"
     ]
    }
   ],
   "source": [
    "print('A sentence in X_idx: Word Indices.')\n",
    "print(X_idx[2001])\n",
    "\n",
    "print('A sentence in Y_idx: NER Indices.')\n",
    "print(Y_idx[2001])"
   ]
  },
  {
   "cell_type": "markdown",
   "metadata": {},
   "source": [
    "Note tags corresponding to words:  \n",
    "`{'B-LOC': 2,\n",
    " 'B-MISC': 3,\n",
    " 'B-ORG': 4,\n",
    " 'B-PER': 5,\n",
    " 'I-LOC': 6,\n",
    " 'I-MISC': 7,\n",
    " 'I-ORG': 8,\n",
    " 'I-PER': 9,\n",
    " 'O': 10}`"
   ]
  },
  {
   "cell_type": "markdown",
   "metadata": {},
   "source": [
    "*Remember: `from keras.preprocessing.sequence import pad_sequences`*  \n",
    "https://keras.io/preprocessing/sequence/#pad_sequences\n",
    "\n",
    "`keras.preprocessing.sequence.pad_sequences(sequences, maxlen=None, dtype='int32', padding='pre', truncating='pre', value=0.0)`\n",
    "\n",
    ">Pads sequences to the same length.  \n",
    "\n",
    ">This function transforms a list of `num_samples` sequences (*lists of integers*) into a 2D Numpy array of shape `(num_samples, num_timesteps)`. `num_timesteps` is either the `maxlen` argument if provided, *or the length of the longest sequence otherwise*.  \n",
    " Sequences that are shorter than `num_timesteps` are padded with `value` at the end.  \n",
    " Sequences longer than `num_timesteps` are truncated so that they fit the desired length. The position where padding or truncation happens is determined by the arguments padding and truncating, respectively.  \n",
    " Pre-padding is the default."
   ]
  },
  {
   "cell_type": "code",
   "execution_count": 21,
   "metadata": {},
   "outputs": [
    {
     "name": "stdout",
     "output_type": "stream",
     "text": [
      "Sentence above is padded into:\n",
      "\n",
      "[     0      0      0      0      0      0      0      0      0      0\n",
      "      0      0      0      0      0      0      0      0      0      0\n",
      "      0      0      0      0      0      0      0      0      0      0\n",
      "      0      0      0      0      0      0      0      0      0      0\n",
      "      0      0      0      0      0      0      0      0      0      0\n",
      "      0      0      0      0      0      0      0      0      0      0\n",
      "      0      0      0      0      0      0      0      0      0      0\n",
      "      0      0      0      0      0      0      0      0      0      0\n",
      "      0      0      0      0      0      0      0      0      0      0\n",
      "      0      0      0      0      0      0      0      0      0      0\n",
      "      0      0      0      0      0      0      0      0      0 340921\n",
      "    517  73883  15424]\n",
      "[ 0  0  0  0  0  0  0  0  0  0  0  0  0  0  0  0  0  0  0  0  0  0  0  0\n",
      "  0  0  0  0  0  0  0  0  0  0  0  0  0  0  0  0  0  0  0  0  0  0  0  0\n",
      "  0  0  0  0  0  0  0  0  0  0  0  0  0  0  0  0  0  0  0  0  0  0  0  0\n",
      "  0  0  0  0  0  0  0  0  0  0  0  0  0  0  0  0  0  0  0  0  0  0  0  0\n",
      "  0  0  0  0  0  0  0  0  0  0  0  0  0  2 10  2 10]\n"
     ]
    }
   ],
   "source": [
    "# Since maxlen not provided, will pre-pad to length of longest sequence: 113 in this case.\n",
    "X = pad_sequences(X_idx)\n",
    "Y = pad_sequences(Y_idx)\n",
    "print('Sentence above is padded into:\\n')\n",
    "print(X[2001])\n",
    "print(Y[2001])"
   ]
  },
  {
   "cell_type": "markdown",
   "metadata": {},
   "source": [
    "Remember: `from keras.utils import to_categorical`  \n",
    "https://keras.io/utils/#to_categorical\n",
    "\n",
    "`keras.utils.to_categorical(y, num_classes=None, dtype='float32')`\n",
    "\n",
    "> Converts a class vector (integers) to binary class matrix.  \n",
    "  E.g. for use with categorical_crossentropy."
   ]
  },
  {
   "cell_type": "code",
   "execution_count": 23,
   "metadata": {},
   "outputs": [
    {
     "name": "stdout",
     "output_type": "stream",
     "text": [
      "Example: second to last word in padded sentence above.\n",
      "[0. 0. 1. 0. 0. 0. 0. 0. 0. 0. 0.]\n",
      "\n",
      "Example: the whole padded sentence above.\n",
      "[[1. 0. 0. ... 0. 0. 0.]\n",
      " [1. 0. 0. ... 0. 0. 0.]\n",
      " [1. 0. 0. ... 0. 0. 0.]\n",
      " ...\n",
      " [0. 0. 0. ... 0. 0. 1.]\n",
      " [0. 0. 1. ... 0. 0. 0.]\n",
      " [0. 0. 0. ... 0. 0. 1.]]\n",
      "\n",
      "Total number of sentences: 14987.\n",
      "Padded sentence length is: 113.\n",
      "Each word in sentence can be this number of categories: 11.\n"
     ]
    }
   ],
   "source": [
    "# Encode categories (integer) vector with a binary class matrix.\n",
    "Y_train = to_categorical(Y, num_classes=len(ner) + 2) # The +2 is still a bit mysterious....\n",
    "\n",
    "print(\"Example: second to last word in padded sentence above.\")\n",
    "print(Y_train[2001][-2])\n",
    "\n",
    "print(\"\\nExample: the whole padded sentence above.\")\n",
    "print(Y_train[2001])\n",
    "\n",
    "print(\"\\nTotal number of sentences: %d.\" % len(Y_train))\n",
    "print(\"Padded sentence length is: %d.\" % len(Y_train[2001]))\n",
    "print(\"Each word in sentence can be this number of categories: %d.\" % len(Y_train[2001][-2]))"
   ]
  },
  {
   "cell_type": "markdown",
   "metadata": {},
   "source": [
    "## Process validation input too\n",
    "\n",
    "Since we use a validation (development) set, we need to preprocess it too."
   ]
  },
  {
   "cell_type": "code",
   "execution_count": 25,
   "metadata": {},
   "outputs": [
    {
     "name": "stdout",
     "output_type": "stream",
     "text": [
      "Number of test sentences and tags: 3466, 3466.\n",
      "Padded to length: 109. \n",
      "\n",
      "Example, sentence at index 2001:\n",
      "\n",
      "X: Words Indices\n",
      " [     0      0      0      0      0      0      0      0      0      0\n",
      "      0      0      0      0      0      0      0      0      0      0\n",
      "      0      0      0      0      0      0      0      0      0      0\n",
      "      0      0      0      0      0      0      0      0      0      0\n",
      "      0      0      0      0      0      0      0      0      0      0\n",
      "      0      0      0      0      0      0      0      0      0      0\n",
      "      0      0      0      0      0      0      0      0      0      0\n",
      "      0      0      0      0      0      0      0      0      0      0\n",
      "      0      0      0      0      0      0      0      0      0      0\n",
      "      0      0      0      0      0      0      0      0      0      0\n",
      "      0      0  23815 312139  53251    159  64830    325      1]\n",
      "\n",
      "Y: Tag indices\n",
      " [ 0  0  0  0  0  0  0  0  0  0  0  0  0  0  0  0  0  0  0  0  0  0  0  0\n",
      "  0  0  0  0  0  0  0  0  0  0  0  0  0  0  0  0  0  0  0  0  0  0  0  0\n",
      "  0  0  0  0  0  0  0  0  0  0  0  0  0  0  0  0  0  0  0  0  0  0  0  0\n",
      "  0  0  0  0  0  0  0  0  0  0  0  0  0  0  0  0  0  0  0  0  0  0  0  0\n",
      "  0  0  0  0  0  0 10  5  9 10  2 10 10]\n",
      "\n",
      "Example tags with sentence above:\n",
      "[[1. 0. 0. 0. 0. 0. 0. 0. 0. 0. 0.]\n",
      " [1. 0. 0. 0. 0. 0. 0. 0. 0. 0. 0.]\n",
      " [1. 0. 0. 0. 0. 0. 0. 0. 0. 0. 0.]\n",
      " [0. 0. 0. 0. 0. 0. 0. 0. 0. 0. 1.]\n",
      " [0. 0. 0. 0. 0. 1. 0. 0. 0. 0. 0.]\n",
      " [0. 0. 0. 0. 0. 0. 0. 0. 0. 1. 0.]\n",
      " [0. 0. 0. 0. 0. 0. 0. 0. 0. 0. 1.]\n",
      " [0. 0. 1. 0. 0. 0. 0. 0. 0. 0. 0.]\n",
      " [0. 0. 0. 0. 0. 0. 0. 0. 0. 0. 1.]\n",
      " [0. 0. 0. 0. 0. 0. 0. 0. 0. 0. 1.]]\n",
      "\n",
      "Check shape consistency:\n",
      "(3466, 109)\n",
      "(3466, 109, 11)\n"
     ]
    }
   ],
   "source": [
    "# In X_dict, we replace the words with their index\n",
    "X_val_cat, Y_val_cat = build_sequences(dev_dict)\n",
    "# We create the parallel sequences of indexes\n",
    "X_val_idx = to_index(X_val_cat, word_idx)\n",
    "Y_val_idx = to_index(Y_val_cat, ner_idx)\n",
    "\n",
    "X_val_padded = pad_sequences(X_val_idx)\n",
    "Y_val_padded = pad_sequences(Y_val_idx)\n",
    "print('Number of test sentences and tags: %d, %d.' % (len(X_val_padded), len(Y_val_padded)) )\n",
    "print('Padded to length: %d.' % len(X_val_padded[2001]), '\\n')\n",
    "\n",
    "print('Example, sentence at index 2001:\\n')\n",
    "print('X: Words Indices\\n', X_val_padded[2001])\n",
    "print('\\nY: Tag indices\\n', Y_val_padded[2001])\n",
    "\n",
    "# Encode categories (integer) vector with a binary class matrix.\n",
    "# One extra symbol for 0 (padding).\n",
    "Y_val_padded_vectorized = to_categorical(Y_val_padded, num_classes=len(ner) + 2)\n",
    "\n",
    "print('\\nExample tags with sentence above:')\n",
    "print(Y_val_padded_vectorized[2001][-10:])\n",
    "\n",
    "print('\\nCheck shape consistency:')\n",
    "print(X_val_padded.shape)\n",
    "print(Y_val_padded_vectorized.shape)"
   ]
  },
  {
   "cell_type": "markdown",
   "metadata": {},
   "source": [
    "# Create the embedding matrix\n",
    "1. Create a matrix whose size will be that of all the words: The unique words in the training set and the words in GloVe. Initialize it with random values.\n",
    "2. Fill the matrix with the GloVe embeddings. You will use the indices from the previous section."
   ]
  },
  {
   "cell_type": "code",
   "execution_count": 28,
   "metadata": {},
   "outputs": [
    {
     "name": "stdout",
     "output_type": "stream",
     "text": [
      "(402597, 100)\n"
     ]
    }
   ],
   "source": [
    "rdstate = np.random.RandomState(1234567)\n",
    "embedding_matrix = rdstate.uniform(-0.05, 0.05, \n",
    "                                   (len(vocabulary_words) + 2, \n",
    "                                    EMBEDDING_DIM))\n",
    "print(np.shape(embedding_matrix))"
   ]
  },
  {
   "cell_type": "code",
   "execution_count": 29,
   "metadata": {},
   "outputs": [],
   "source": [
    "for word in vocabulary_words:\n",
    "    if word in embeddings_dict:\n",
    "        # If the words are in the embeddings, we fill them with a value.\n",
    "        embedding_matrix[word_idx[word]] = embeddings_dict[word]"
   ]
  },
  {
   "cell_type": "code",
   "execution_count": 30,
   "metadata": {},
   "outputs": [
    {
     "name": "stdout",
     "output_type": "stream",
     "text": [
      "Check with output below\n"
     ]
    },
    {
     "data": {
      "text/plain": [
       "array([-0.038194, -0.24487 ,  0.72812 , -0.39961 ,  0.083172,  0.043953,\n",
       "       -0.39141 ,  0.3344  , -0.57545 ,  0.087459,  0.28787 , -0.06731 ,\n",
       "        0.30906 , -0.26384 , -0.13231 , -0.20757 ,  0.33395 , -0.33848 ,\n",
       "       -0.31743 , -0.48336 ], dtype=float32)"
      ]
     },
     "execution_count": 30,
     "metadata": {},
     "output_type": "execute_result"
    }
   ],
   "source": [
    "print('Check with output below')\n",
    "embeddings_dict['the'][0:20]"
   ]
  },
  {
   "cell_type": "code",
   "execution_count": 31,
   "metadata": {},
   "outputs": [
    {
     "name": "stdout",
     "output_type": "stream",
     "text": [
      "Shape of embedding matrix: (402597, 100) \n",
      "\n",
      "Embedding of word \"the\"\n",
      " [-0.038194   -0.24487001  0.72812003 -0.39961001  0.083172    0.043953\n",
      " -0.39140999  0.3344     -0.57545     0.087459    0.28786999 -0.06731\n",
      "  0.30906001 -0.26383999 -0.13231    -0.20757     0.33395001 -0.33848\n",
      " -0.31742999 -0.48335999  0.1464     -0.37303999  0.34577     0.052041\n",
      "  0.44946    -0.46970999  0.02628    -0.54154998 -0.15518001 -0.14106999\n",
      " -0.039722    0.28277001  0.14393     0.23464    -0.31020999  0.086173\n",
      "  0.20397     0.52623999  0.17163999 -0.082378   -0.71787    -0.41531\n",
      "  0.20334999 -0.12763     0.41367     0.55186999  0.57907999 -0.33476999\n",
      " -0.36559001 -0.54856998 -0.062892    0.26583999  0.30204999  0.99774998\n",
      " -0.80480999 -3.0243001   0.01254    -0.36941999  2.21670008  0.72201002\n",
      " -0.24978     0.92136002  0.034514    0.46744999  1.10790002 -0.19358\n",
      " -0.074575    0.23353    -0.052062   -0.22044     0.057162   -0.15806\n",
      " -0.30798    -0.41624999  0.37972     0.15006    -0.53211999 -0.20550001\n",
      " -1.25259995  0.071624    0.70564997  0.49744001 -0.42063001  0.26148\n",
      " -1.53799999 -0.30223    -0.073438   -0.28312001  0.37103999 -0.25217\n",
      "  0.016215   -0.017099   -0.38984001  0.87423998 -0.72569001 -0.51058\n",
      " -0.52028    -0.1459      0.82779998  0.27061999] \n",
      "\n",
      "Embedding of the padding symbol, idx 0, random numbers\n",
      " [-0.02629708 -0.04923516 -0.04801697 -0.01869074 -0.04005453] \n",
      "\n",
      "Embedding of unknown word, idx 1, random numbers\n",
      " [-0.02629708 -0.04923516 -0.04801697 -0.01869074 -0.04005453]\n"
     ]
    }
   ],
   "source": [
    "print('Shape of embedding matrix:', embedding_matrix.shape, '\\n')\n",
    "\n",
    "print('Embedding of word \\\"the\\\"\\n', embedding_matrix[word_idx['the']], '\\n')\n",
    "\n",
    "print('Embedding of the padding symbol, idx 0, random numbers\\n', embedding_matrix[0][0:5], '\\n')\n",
    "\n",
    "print('Embedding of unknown word, idx 1, random numbers\\n', embedding_matrix[0][0:5])"
   ]
  },
  {
   "cell_type": "markdown",
   "metadata": {},
   "source": [
    "# RNN"
   ]
  },
  {
   "cell_type": "markdown",
   "metadata": {},
   "source": [
    "https://keras.io/layers/embeddings/\n",
    "\n",
    "```\n",
    "OPTIMIZER = 'rmsprop'\n",
    "BATCH_SIZE = 128\n",
    "EPOCHS = 2\n",
    "EMBEDDING_DIM = 100\n",
    "MAX_SEQUENCE_LENGTH = 150\n",
    "LSTM_UNITS = 512\n",
    "```"
   ]
  },
  {
   "cell_type": "code",
   "execution_count": 32,
   "metadata": {},
   "outputs": [],
   "source": [
    "max_features = len(vocabulary_words) + 2\n",
    "\n",
    "model = models.Sequential()\n",
    "model.add(layers.Embedding(max_features,\n",
    "                           EMBEDDING_DIM,\n",
    "                           mask_zero=True,\n",
    "                           input_length=None))\n",
    "model.layers[0].set_weights([embedding_matrix])\n",
    "# The default is True\n",
    "model.layers[0].trainable = True\n",
    "#model.add(SimpleRNN(100, return_sequences=True))\n",
    "model.add(Bidirectional(SimpleRNN(100, return_sequences=True, dropout=0.4, recurrent_dropout=0.4)))\n",
    "#model.add(Bidirectional(LSTM(64, return_sequences=True, dropout=0.3, recurrent_dropout=0.3)))\n",
    "#model.add(Bidirectional(LSTM(100, return_sequences=True, dropout=0.3, recurrent_dropout=0.3)))\n",
    "model.add(Dense(NB_CLASSES + 2, activation='softmax'))"
   ]
  },
  {
   "cell_type": "code",
   "execution_count": 33,
   "metadata": {},
   "outputs": [
    {
     "name": "stdout",
     "output_type": "stream",
     "text": [
      "_________________________________________________________________\n",
      "Layer (type)                 Output Shape              Param #   \n",
      "=================================================================\n",
      "embedding_2 (Embedding)      (None, None, 100)         40259700  \n",
      "_________________________________________________________________\n",
      "bidirectional_1 (Bidirection (None, None, 200)         40200     \n",
      "_________________________________________________________________\n",
      "dense_1 (Dense)              (None, None, 11)          2211      \n",
      "=================================================================\n",
      "Total params: 40,302,111\n",
      "Trainable params: 40,302,111\n",
      "Non-trainable params: 0\n",
      "_________________________________________________________________\n"
     ]
    }
   ],
   "source": [
    "model.compile(loss='categorical_crossentropy',\n",
    "              optimizer='rmsprop',\n",
    "              metrics=['acc'])\n",
    "model.summary()"
   ]
  },
  {
   "cell_type": "code",
   "execution_count": 34,
   "metadata": {},
   "outputs": [
    {
     "name": "stdout",
     "output_type": "stream",
     "text": [
      "Train on 14987 samples, validate on 3466 samples\n",
      "Epoch 1/30\n",
      "14987/14987 [==============================] - 68s 5ms/step - loss: 0.5076 - acc: 0.8649 - val_loss: 0.3024 - val_acc: 0.9154\n",
      "Epoch 2/30\n",
      "14987/14987 [==============================] - 65s 4ms/step - loss: 0.2702 - acc: 0.9232 - val_loss: 0.1953 - val_acc: 0.9474\n",
      "Epoch 3/30\n",
      "14987/14987 [==============================] - 65s 4ms/step - loss: 0.2180 - acc: 0.9371 - val_loss: 0.1725 - val_acc: 0.9544\n",
      "Epoch 4/30\n",
      "14987/14987 [==============================] - 67s 4ms/step - loss: 0.1864 - acc: 0.9464 - val_loss: 0.1516 - val_acc: 0.9601\n",
      "Epoch 5/30\n",
      "14987/14987 [==============================] - 67s 4ms/step - loss: 0.1660 - acc: 0.9518 - val_loss: 0.1428 - val_acc: 0.9621\n",
      "Epoch 6/30\n",
      "14987/14987 [==============================] - 67s 4ms/step - loss: 0.1504 - acc: 0.9559 - val_loss: 0.1372 - val_acc: 0.9638\n",
      "Epoch 7/30\n",
      "14987/14987 [==============================] - 67s 4ms/step - loss: 0.1384 - acc: 0.9591 - val_loss: 0.1328 - val_acc: 0.9651\n",
      "Epoch 8/30\n",
      "14987/14987 [==============================] - 67s 4ms/step - loss: 0.1277 - acc: 0.9625 - val_loss: 0.1240 - val_acc: 0.9666\n",
      "Epoch 9/30\n",
      "14987/14987 [==============================] - 67s 4ms/step - loss: 0.1181 - acc: 0.9649 - val_loss: 0.1189 - val_acc: 0.9687\n",
      "Epoch 10/30\n",
      "14987/14987 [==============================] - 67s 4ms/step - loss: 0.1114 - acc: 0.9673 - val_loss: 0.1176 - val_acc: 0.9673\n",
      "Epoch 11/30\n",
      "14987/14987 [==============================] - 67s 4ms/step - loss: 0.1058 - acc: 0.9687 - val_loss: 0.1140 - val_acc: 0.9693\n",
      "Epoch 12/30\n",
      "14987/14987 [==============================] - 67s 4ms/step - loss: 0.0982 - acc: 0.9708 - val_loss: 0.1140 - val_acc: 0.9703\n",
      "Epoch 13/30\n",
      "14987/14987 [==============================] - 67s 4ms/step - loss: 0.0948 - acc: 0.9725 - val_loss: 0.1125 - val_acc: 0.9707\n",
      "Epoch 14/30\n",
      "14987/14987 [==============================] - 66s 4ms/step - loss: 0.0889 - acc: 0.9739 - val_loss: 0.1145 - val_acc: 0.9712\n",
      "Epoch 15/30\n",
      "14987/14987 [==============================] - 66s 4ms/step - loss: 0.0853 - acc: 0.9747 - val_loss: 0.1072 - val_acc: 0.9718\n",
      "Epoch 16/30\n",
      "14987/14987 [==============================] - 66s 4ms/step - loss: 0.0820 - acc: 0.9759 - val_loss: 0.1088 - val_acc: 0.9724\n",
      "Epoch 17/30\n",
      "14987/14987 [==============================] - 66s 4ms/step - loss: 0.0794 - acc: 0.9762 - val_loss: 0.1071 - val_acc: 0.9723\n",
      "Epoch 18/30\n",
      "14987/14987 [==============================] - 66s 4ms/step - loss: 0.0754 - acc: 0.9780 - val_loss: 0.1020 - val_acc: 0.9720\n",
      "Epoch 19/30\n",
      "14987/14987 [==============================] - 66s 4ms/step - loss: 0.0722 - acc: 0.9785 - val_loss: 0.1068 - val_acc: 0.9728\n",
      "Epoch 20/30\n",
      "14987/14987 [==============================] - 67s 4ms/step - loss: 0.0703 - acc: 0.9792 - val_loss: 0.1014 - val_acc: 0.9716\n",
      "Epoch 21/30\n",
      "14987/14987 [==============================] - 67s 4ms/step - loss: 0.0670 - acc: 0.9799 - val_loss: 0.1075 - val_acc: 0.9732\n",
      "Epoch 22/30\n",
      "14987/14987 [==============================] - 67s 4ms/step - loss: 0.0658 - acc: 0.9806 - val_loss: 0.0993 - val_acc: 0.9722\n",
      "Epoch 23/30\n",
      "14987/14987 [==============================] - 67s 4ms/step - loss: 0.0645 - acc: 0.9807 - val_loss: 0.1053 - val_acc: 0.9737\n",
      "Epoch 24/30\n",
      "14987/14987 [==============================] - 67s 4ms/step - loss: 0.0614 - acc: 0.9816 - val_loss: 0.1022 - val_acc: 0.9738\n",
      "Epoch 25/30\n",
      "14987/14987 [==============================] - 67s 4ms/step - loss: 0.0594 - acc: 0.9821 - val_loss: 0.1021 - val_acc: 0.9741\n",
      "Epoch 26/30\n",
      "14987/14987 [==============================] - 67s 4ms/step - loss: 0.0582 - acc: 0.9824 - val_loss: 0.0989 - val_acc: 0.9726\n",
      "Epoch 27/30\n",
      "14987/14987 [==============================] - 66s 4ms/step - loss: 0.0570 - acc: 0.9828 - val_loss: 0.1014 - val_acc: 0.9742\n",
      "Epoch 28/30\n",
      "14987/14987 [==============================] - 67s 4ms/step - loss: 0.0547 - acc: 0.9838 - val_loss: 0.0986 - val_acc: 0.9732\n",
      "Epoch 29/30\n",
      "14987/14987 [==============================] - 67s 4ms/step - loss: 0.0534 - acc: 0.9838 - val_loss: 0.0992 - val_acc: 0.9748\n",
      "Epoch 30/30\n",
      "14987/14987 [==============================] - 67s 4ms/step - loss: 0.0530 - acc: 0.9841 - val_loss: 0.0961 - val_acc: 0.9749\n"
     ]
    }
   ],
   "source": [
    "n_epochs = 30\n",
    "history = model.fit(X, Y_train, epochs=n_epochs, batch_size=BATCH_SIZE, \n",
    "                    validation_data=(X_val_padded, Y_val_padded_vectorized))"
   ]
  },
  {
   "cell_type": "code",
   "execution_count": 39,
   "metadata": {},
   "outputs": [],
   "source": [
    "#model.save('simpleRNN_6e.h5')"
   ]
  },
  {
   "cell_type": "markdown",
   "metadata": {},
   "source": [
    "Plot results on validation set. "
   ]
  },
  {
   "cell_type": "code",
   "execution_count": 36,
   "metadata": {},
   "outputs": [
    {
     "data": {
      "image/png": "[encoded data removed]",
      "text/plain": [
       "<Figure size 432x288 with 1 Axes>"
      ]
     },
     "metadata": {
      "needs_background": "light"
     },
     "output_type": "display_data"
    },
    {
     "data": {
      "image/png": "[encoded data removed]",
      "text/plain": [
       "<Figure size 432x288 with 1 Axes>"
      ]
     },
     "metadata": {
      "needs_background": "light"
     },
     "output_type": "display_data"
    }
   ],
   "source": [
    "import matplotlib.pyplot as plt\n",
    "\n",
    "acc = history.history['acc']\n",
    "val_acc = history.history['val_acc']\n",
    "loss = history.history['loss']\n",
    "val_loss = history.history['val_loss']\n",
    "\n",
    "epochs = range(1,n_epochs+1)\n",
    "\n",
    "plt.plot(epochs, acc, 'bo', label='Training acc')\n",
    "plt.plot(epochs, val_acc, 'b', label='Validation acc')\n",
    "plt.title('Training and validation accuracy')\n",
    "plt.legend()\n",
    "\n",
    "plt.figure()\n",
    "\n",
    "plt.plot(epochs, loss, 'bo', label='Training loss')\n",
    "plt.plot(epochs, val_loss, 'b', label='Validation loss')\n",
    "plt.title('Training and validation loss')\n",
    "plt.legend()\n",
    "\n",
    "plt.show()"
   ]
  },
  {
   "cell_type": "markdown",
   "metadata": {},
   "source": [
    "## RNN Evaluation\n",
    "\n",
    "### Rehsape test input data\n",
    "Need to do the whole input formatting procedure for the **test set** too.\n",
    "\n",
    "So just repeat what we did above but with the test set as input."
   ]
  },
  {
   "cell_type": "code",
   "execution_count": 37,
   "metadata": {},
   "outputs": [
    {
     "name": "stdout",
     "output_type": "stream",
     "text": [
      "Number of test sentences and tags: 3684, 3684.\n",
      "Padded to length: 124. \n",
      "\n",
      "Example, sentence at index 2001:\n",
      "\n",
      "X: Words Indices\n",
      " [     0      0      0      0      0      0      0      0      0      0\n",
      "      0      0      0      0      0      0      0      0      0      0\n",
      "      0      0      0      0      0      0      0      0      0      0\n",
      "      0      0      0      0      0      0      0      0      0      0\n",
      "      0      0      0      0      0      0      0      0      0      0\n",
      "      0      0      0      0      0      0      0      0      0      0\n",
      "      0      0      0      0      0      0      0      0      0      0\n",
      "      0      0      0      0      0      0      0      0      0      0\n",
      "      0      0      0      0      0      0      0      0      0      0\n",
      "      0      0      0      0      0      0      0 359698 195584 375978\n",
      " 184172 327134  87571 107473 175799 108345 195756 143910 270183 195625\n",
      "    154  15453  87571    517  56102 195553 390246  59334 359698 241243\n",
      " 270361  89620 321432    936]\n",
      "\n",
      "Y: Tag indices\n",
      " [ 0  0  0  0  0  0  0  0  0  0  0  0  0  0  0  0  0  0  0  0  0  0  0  0\n",
      "  0  0  0  0  0  0  0  0  0  0  0  0  0  0  0  0  0  0  0  0  0  0  0  0\n",
      "  0  0  0  0  0  0  0  0  0  0  0  0  0  0  0  0  0  0  0  0  0  0  0  0\n",
      "  0  0  0  0  0  0  0  0  0  0  0  0  0  0  0  0  0  0  0  0  0  0  0  0\n",
      "  0 10  3 10 10  4 10 10 10 10 10 10 10  2 10 10 10 10 10 10 10 10 10 10\n",
      " 10 10 10 10]\n",
      "\n",
      "Example tags with sentence above:\n",
      "[[0. 0. 1. 0. 0. 0. 0. 0. 0. 0. 0.]\n",
      " [0. 0. 0. 0. 0. 0. 0. 0. 0. 0. 1.]\n",
      " [0. 0. 0. 0. 0. 0. 0. 0. 0. 0. 1.]\n",
      " [0. 0. 0. 0. 0. 0. 0. 0. 0. 0. 1.]\n",
      " [0. 0. 0. 0. 0. 0. 0. 0. 0. 0. 1.]]\n",
      "\n",
      "Check shape consistency:\n",
      "(3684, 124)\n",
      "(3684, 124, 11)\n"
     ]
    }
   ],
   "source": [
    "# In X_dict, we replace the words with their index\n",
    "X_test_cat, Y_test_cat = build_sequences(test_dict)\n",
    "# We create the parallel sequences of indexes\n",
    "X_test_idx = to_index(X_test_cat, word_idx)\n",
    "Y_test_idx = to_index(Y_test_cat, ner_idx)\n",
    "\n",
    "X_test_padded = pad_sequences(X_test_idx)\n",
    "Y_test_padded = pad_sequences(Y_test_idx)\n",
    "print('Number of test sentences and tags: %d, %d.' % (len(X_test_padded), len(Y_test_padded)) )\n",
    "print('Padded to length: %d.' % len(X_test_padded[2001]), '\\n')\n",
    "\n",
    "print('Example, sentence at index 2001:\\n')\n",
    "print('X: Words Indices\\n', X_test_padded[2001])\n",
    "print('\\nY: Tag indices\\n', Y_test_padded[2001])\n",
    "\n",
    "# Encode categories (integer) vector with a binary class matrix.\n",
    "# One extra symbol for 0 (padding).\n",
    "Y_test_padded_vectorized = to_categorical(Y_test_padded,num_classes=len(ner) + 2)\n",
    "\n",
    "print('\\nExample tags with sentence above:')\n",
    "print(Y_test_padded_vectorized[2001][-15:-10])\n",
    "\n",
    "print('\\nCheck shape consistency:')\n",
    "print(X_test_padded.shape)\n",
    "print(Y_test_padded_vectorized.shape)"
   ]
  },
  {
   "cell_type": "markdown",
   "metadata": {},
   "source": [
    "### Evaluate and predict on test set"
   ]
  },
  {
   "cell_type": "code",
   "execution_count": 38,
   "metadata": {},
   "outputs": [
    {
     "name": "stdout",
     "output_type": "stream",
     "text": [
      "3684/3684 [==============================] - 3s 903us/step\n",
      "Loss: 0.14943445232331784\n",
      "Accuracy: 0.960675511440418\n"
     ]
    }
   ],
   "source": [
    "test_loss, test_acc = model.evaluate(X_test_padded, \n",
    "                                     Y_test_padded_vectorized)\n",
    "print('Loss:', test_loss)\n",
    "print('Accuracy:', test_acc)"
   ]
  },
  {
   "cell_type": "code",
   "execution_count": 39,
   "metadata": {},
   "outputs": [
    {
     "name": "stdout",
     "output_type": "stream",
     "text": [
      "X_test_padded [     0      0      0      0      0      0      0      0      0      0\n",
      "      0      0      0      0      0      0      0      0      0      0\n",
      "      0      0      0      0      0      0      0      0      0      0\n",
      "      0      0      0      0      0      0      0      0      0      0\n",
      "      0      0      0      0      0      0      0      0      0      0\n",
      "      0      0      0      0      0      0      0      0      0      0\n",
      "      0      0      0      0      0      0      0      0      0      0\n",
      "      0      0      0      0      0      0      0      0      0      0\n",
      "      0      0      0      0      0      0      0      0      0      0\n",
      "      0      0      0      0      0      0      0 359698 195584 375978\n",
      " 184172 327134  87571 107473 175799 108345 195756 143910 270183 195625\n",
      "    154  15453  87571    517  56102 195553 390246  59334 359698 241243\n",
      " 270361  89620 321432    936]\n",
      "Y_test_padded [ 0  0  0  0  0  0  0  0  0  0  0  0  0  0  0  0  0  0  0  0  0  0  0  0\n",
      "  0  0  0  0  0  0  0  0  0  0  0  0  0  0  0  0  0  0  0  0  0  0  0  0\n",
      "  0  0  0  0  0  0  0  0  0  0  0  0  0  0  0  0  0  0  0  0  0  0  0  0\n",
      "  0  0  0  0  0  0  0  0  0  0  0  0  0  0  0  0  0  0  0  0  0  0  0  0\n",
      "  0 10  3 10 10  4 10 10 10 10 10 10 10  2 10 10 10 10 10 10 10 10 10 10\n",
      " 10 10 10 10]\n"
     ]
    }
   ],
   "source": [
    "print('X_test_padded', X_test_padded[2001])\n",
    "print('Y_test_padded', Y_test_padded[2001])"
   ]
  },
  {
   "cell_type": "code",
   "execution_count": 40,
   "metadata": {},
   "outputs": [
    {
     "name": "stdout",
     "output_type": "stream",
     "text": [
      "3684/3684 [==============================] - 3s 923us/step\n"
     ]
    }
   ],
   "source": [
    "ner_predictions = model.predict(X_test_padded, verbose=1)"
   ]
  },
  {
   "cell_type": "code",
   "execution_count": 41,
   "metadata": {},
   "outputs": [
    {
     "name": "stdout",
     "output_type": "stream",
     "text": [
      "[5.3607002e-12 6.5027372e-12 9.9939620e-01 5.7736670e-05 2.3895378e-04\n",
      " 2.3150909e-05 1.4147745e-04 4.0447680e-06 1.0677781e-04 1.5955050e-06\n",
      " 2.9958817e-05]\n",
      "Length: 124.\n",
      "\n",
      "So output is still padded:\n",
      "(3684, 124, 11)\n"
     ]
    }
   ],
   "source": [
    "print(ner_predictions[2001][-15])\n",
    "print('Length: %d.' % len(ner_predictions[2001]))\n",
    "\n",
    "print('\\nSo output is still padded:')\n",
    "print(ner_predictions.shape)"
   ]
  },
  {
   "cell_type": "markdown",
   "metadata": {},
   "source": [
    "### Remove padding"
   ]
  },
  {
   "cell_type": "code",
   "execution_count": 42,
   "metadata": {},
   "outputs": [
    {
     "name": "stdout",
     "output_type": "stream",
     "text": [
      "Check with above:\n",
      "[5.3607002e-12 6.5027372e-12 9.9939620e-01 5.7736670e-05 2.3895378e-04\n",
      " 2.3150909e-05 1.4147745e-04 4.0447680e-06 1.0677781e-04 1.5955050e-06\n",
      " 2.9958817e-05]\n",
      "Length: 27. So padding removed.\n"
     ]
    }
   ],
   "source": [
    "ner_pred_num = []\n",
    "for pred_nbr, ner_preds in enumerate(ner_predictions):\n",
    "    # len(X_test_cat[pred_nbr]) is the length a sentence number pred_nbr.\n",
    "    # Since we used pre-paddding, extract tag predictions from -sentence_length to end.\n",
    "    ner_pred_num += [ ner_preds[ -len(X_test_cat[pred_nbr]) : ] ]\n",
    "\n",
    "print('Check with above:')\n",
    "print(ner_pred_num[2001][-15])\n",
    "print('Length: %d. So padding removed.' % len(ner_pred_num[2001]))"
   ]
  },
  {
   "cell_type": "markdown",
   "metadata": {},
   "source": [
    "### From logistic regression to one tag\n",
    "We still have our results in probabilistic form from the softmax output.  \n",
    "Take the maximum to get the tag predicted as most likely.\n",
    "\n",
    "Note: `argmax` returns the **indices** of the maximum values along an axis.\n",
    "\n",
    "https://docs.scipy.org/doc/numpy/reference/generated/numpy.argmax.html"
   ]
  },
  {
   "cell_type": "code",
   "execution_count": 44,
   "metadata": {},
   "outputs": [
    {
     "name": "stdout",
     "output_type": "stream",
     "text": [
      "{2: 'B-LOC', 3: 'B-MISC', 4: 'B-ORG', 5: 'B-PER', 6: 'I-LOC', 7: 'I-MISC', 8: 'I-ORG', 9: 'I-PER', 10: 'O'}\n"
     ]
    }
   ],
   "source": [
    "# Remember\n",
    "print(rev_ner_idx)"
   ]
  },
  {
   "cell_type": "code",
   "execution_count": 45,
   "metadata": {},
   "outputs": [
    {
     "name": "stdout",
     "output_type": "stream",
     "text": [
      "Length consistency check: 3684, 3684.\n",
      "\n",
      "Example for sentence in index 2001:\n",
      "\n",
      "Predicted:\n",
      " ['O', 'B-MISC', 'O', 'B-ORG', 'B-ORG', 'O', 'O', 'O', 'O', 'O', 'O', 'O', 'B-LOC', 'O', 'O', 'O', 'O', 'O', 'O', 'O', 'O', 'O', 'O', 'O', 'O', 'O', 'O']\n",
      "\n",
      "Correct answer:\n",
      " ['O', 'B-MISC', 'O', 'O', 'B-ORG', 'O', 'O', 'O', 'O', 'O', 'O', 'O', 'B-LOC', 'O', 'O', 'O', 'O', 'O', 'O', 'O', 'O', 'O', 'O', 'O', 'O', 'O', 'O']\n"
     ]
    }
   ],
   "source": [
    "ner_pred = []\n",
    "for sentence in ner_pred_num:\n",
    "    ner_pred_idx = list(map(np.argmax, sentence)) # Predicted indices for this sentence.\n",
    "    ner_pred_cat = list(map(rev_ner_idx.get, ner_pred_idx)) # Convert indices to 'I-ORG' and so on for this sentence.\n",
    "    ner_pred += [ner_pred_cat]\n",
    "\n",
    "print('Length consistency check: %d, %d.\\n' % (len(ner_pred), len(Y_test_cat)) )\n",
    "print('Example for sentence in index 2001:')\n",
    "print('\\nPredicted:\\n', ner_pred[2001])\n",
    "print('\\nCorrect answer:\\n', Y_test_cat[2001])"
   ]
  },
  {
   "cell_type": "code",
   "execution_count": 46,
   "metadata": {},
   "outputs": [
    {
     "name": "stdout",
     "output_type": "stream",
     "text": [
      "total 46666, correct 44898, accuracy 0.962114\n",
      "total unknown 1143, correct 960, accuracy 0.839895\n"
     ]
    }
   ],
   "source": [
    "# Check accuracy separately for words in and not in dictionary.\n",
    "total, correct, total_ukn, correct_ukn = 0, 0, 0, 0\n",
    "for id_s, sentence in enumerate(X_test_cat):\n",
    "    for id_w, word in enumerate(sentence):\n",
    "        total += 1\n",
    "        if ner_pred[id_s][id_w] == Y_test_cat[id_s][id_w]:\n",
    "            correct += 1\n",
    "        # The word is not in the dictionary\n",
    "        if word not in word_idx:\n",
    "            total_ukn += 1\n",
    "            if ner_pred[id_s][id_w] == Y_test_cat[id_s][id_w]:\n",
    "                correct_ukn += 1\n",
    "\n",
    "print('total %d, correct %d, accuracy %f' % \n",
    "      (total, correct, correct / total))\n",
    "if total_ukn != 0:\n",
    "    print('total unknown %d, correct %d, accuracy %f' % \n",
    "          (total_ukn, correct_ukn, correct_ukn / total_ukn))\n",
    "\n"
   ]
  },
  {
   "cell_type": "markdown",
   "metadata": {},
   "source": [
    "### Add predictions to file for evaluation script"
   ]
  },
  {
   "cell_type": "code",
   "execution_count": 47,
   "metadata": {},
   "outputs": [],
   "source": [
    "def add_ner_predictions(input_filepath, pred_sentence_list, output_filepath):\n",
    "    \"\"\"Add the NER predictions as a fifth column in test.txt.\"\"\"\n",
    "    with open(input_filepath, 'r') as readf, open(output_filepath, 'w') as writef:\n",
    "        sentence_idx, word_idx = 0, 0\n",
    "        for line in readf:\n",
    "            # If line was empty, next sentence.\n",
    "            if not line.strip():\n",
    "                writef.write('\\n')\n",
    "                sentence_idx += 1\n",
    "                word_idx = 0\n",
    "            else:\n",
    "                writef.write(line.rstrip() + ' ' + ner_pred[sentence_idx][word_idx] + '\\n')\n",
    "                word_idx += 1"
   ]
  },
  {
   "cell_type": "code",
   "execution_count": 48,
   "metadata": {},
   "outputs": [],
   "source": [
    "add_ner_predictions('test_copy.txt', ner_pred, 'test_result.txt')"
   ]
  },
  {
   "cell_type": "code",
   "execution_count": 374,
   "metadata": {},
   "outputs": [],
   "source": [
    "# perl conlleval.pl < test_result.txt"
   ]
  }
 ],
 "metadata": {
  "kernelspec": {
   "display_name": "Python 3",
   "language": "python",
   "name": "python3"
  },
  "language_info": {
   "codemirror_mode": {
    "name": "ipython",
    "version": 3
   },
   "file_extension": ".py",
   "mimetype": "text/x-python",
   "name": "python",
   "nbconvert_exporter": "python",
   "pygments_lexer": "ipython3",
   "version": "3.6.6"
  }
 },
 "nbformat": 4,
 "nbformat_minor": 2
}
